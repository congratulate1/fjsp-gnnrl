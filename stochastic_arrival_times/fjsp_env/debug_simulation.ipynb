{
 "cells": [
  {
   "cell_type": "code",
   "execution_count": 1,
   "metadata": {},
   "outputs": [],
   "source": [
    "import numpy as np\n",
    "\n",
    "from fjsp_env import StochasticFJSP\n",
    "from stochastic_arrival_times import calculate_problem_release_times\n",
    "from debug_gantt_chart import draw_gantt_chart, get_machine_op_durations, calculate_horizon_with_arrival_times\n",
    "\n",
    "env = StochasticFJSP(3, 3, 3)\n",
    "problem = np.array(\n",
    "    [\n",
    "        [\n",
    "            [1, 3, 2],\n",
    "            [0, 2, 1],\n",
    "            [0, 0, 3],\n",
    "        ],\n",
    "        [\n",
    "            [0, 0, 2],\n",
    "            [2, 2, 1],\n",
    "            [0, 0, 0]\n",
    "        ],\n",
    "        [\n",
    "            [2, 1, 0],\n",
    "            [1, 0, 1],\n",
    "            [3, 0, 0]\n",
    "        ]\n",
    "    ], dtype=np.int32\n",
    ")\n",
    "release_times = calculate_problem_release_times(problem, 0.95, problem.shape[0], problem.shape[2])\n",
    "release_times = np.array([4, 6, 7], dtype=np.int32)"
   ]
  },
  {
   "cell_type": "code",
   "execution_count": 2,
   "metadata": {},
   "outputs": [
    {
     "data": {
      "text/plain": [
       "(array([[1., 1., 0., 0., 0., 0., 0., 0.],\n",
       "        [0., 1., 1., 0., 0., 0., 0., 0.],\n",
       "        [0., 0., 1., 0., 0., 0., 0., 0.],\n",
       "        [0., 0., 0., 1., 1., 0., 0., 0.],\n",
       "        [0., 0., 0., 0., 1., 0., 0., 0.],\n",
       "        [0., 0., 0., 0., 0., 1., 1., 0.],\n",
       "        [0., 0., 0., 0., 0., 0., 1., 1.],\n",
       "        [0., 0., 0., 0., 0., 0., 0., 1.]], dtype=float32),\n",
       " array([[0.005, 0.007, 0.006, 0.   ],\n",
       "        [0.   , 0.007, 0.006, 0.   ],\n",
       "        [0.   , 0.   , 0.009, 0.   ],\n",
       "        [0.   , 0.   , 0.008, 0.   ],\n",
       "        [0.01 , 0.01 , 0.009, 0.   ],\n",
       "        [0.009, 0.008, 0.   , 0.   ],\n",
       "        [0.009, 0.   , 0.009, 0.   ],\n",
       "        [0.012, 0.   , 0.   , 0.   ]]),\n",
       " [[0, 0], [0, 1], [0, 2], [3, 0], [3, 1], [3, 2], [5, 0], [5, 1], [5, 2]],\n",
       " array([False, False, False,  True,  True, False, False, False,  True]),\n",
       " array([[1., 0., 0., 0.],\n",
       "        [1., 0., 0., 0.],\n",
       "        [1., 0., 0., 0.],\n",
       "        [0., 0., 0., 0.],\n",
       "        [0., 0., 0., 0.],\n",
       "        [1., 0., 0., 0.],\n",
       "        [1., 0., 0., 0.],\n",
       "        [1., 0., 0., 0.],\n",
       "        [0., 0., 0., 0.]]))"
      ]
     },
     "execution_count": 2,
     "metadata": {},
     "output_type": "execute_result"
    }
   ],
   "source": [
    "env.reset(problem, 3, release_times)"
   ]
  },
  {
   "cell_type": "code",
   "execution_count": 3,
   "metadata": {},
   "outputs": [],
   "source": [
    "machine_op_durations = get_machine_op_durations(\n",
    "    env.machine_op_ids,\n",
    "    env.jobs,\n",
    "    env.op_id_to_job_info\n",
    ")\n",
    "horizon = calculate_horizon_with_arrival_times(env.jobs, env.job_release_times)"
   ]
  },
  {
   "cell_type": "code",
   "execution_count": 4,
   "metadata": {},
   "outputs": [
    {
     "name": "stdout",
     "output_type": "stream",
     "text": [
      "[[[ 5  7  6]\n",
      "  [ 0  7  6]\n",
      "  [ 0  0  9]]\n",
      "\n",
      " [[ 0  0  8]\n",
      "  [10 10  9]\n",
      "  [ 0  0  0]]\n",
      "\n",
      " [[ 9  8  0]\n",
      "  [ 9  0  9]\n",
      "  [12  0  0]]]\n"
     ]
    }
   ],
   "source": [
    "i = 1\n",
    "print(env.lower_bounds)\n",
    "def step_and_print(action):\n",
    "    global i\n",
    "    print(f'ACTION {i}- OPERATION {action[0]} | MACHINE {action[1]}')\n",
    "    adj, fea, reward, done, omega, mask, machine_feat = env.step((action[0] - 1, action[1] - 1))\n",
    "    machine_op_durations = get_machine_op_durations(\n",
    "        env.machine_op_ids,\n",
    "        env.jobs,\n",
    "        env.op_id_to_job_info\n",
    "    )\n",
    "    print(env.lower_bounds)\n",
    "    print(machine_feat)\n",
    "    draw_gantt_chart(\n",
    "        horizon,\n",
    "        env.machine_start_times,\n",
    "        machine_op_durations,\n",
    "        env.machine_op_ids,\n",
    "        env.op_id_to_job_info,\n",
    "        env.number_of_jobs\n",
    "    )\n",
    "    i += 1"
   ]
  },
  {
   "cell_type": "code",
   "execution_count": 5,
   "metadata": {},
   "outputs": [
    {
     "name": "stdout",
     "output_type": "stream",
     "text": [
      "ACTION 1- OPERATION 1 | MACHINE 2\n",
      "[[[ 7.  7.  7.]\n",
      "  [ 0.  9.  8.]\n",
      "  [ 0.  0. 11.]]\n",
      "\n",
      " [[ 0.  0.  8.]\n",
      "  [10. 10.  9.]\n",
      "  [ 0.  0.  0.]]\n",
      "\n",
      " [[ 9.  8.  0.]\n",
      "  [ 9.  0.  9.]\n",
      "  [12.  0.  0.]]]\n",
      "[[0. 0. 0. 7.]\n",
      " [1. 0. 3. 4.]\n",
      " [1. 0. 0. 7.]\n",
      " [0. 0. 0. 7.]\n",
      " [0. 0. 3. 4.]\n",
      " [1. 0. 0. 7.]\n",
      " [1. 0. 0. 7.]\n",
      " [1. 0. 3. 4.]\n",
      " [0. 0. 0. 7.]]\n"
     ]
    },
    {
     "data": {
      "image/png": "[encoded data removed]",
      "text/plain": [
       "<Figure size 432x288 with 1 Axes>"
      ]
     },
     "metadata": {
      "needs_background": "light"
     },
     "output_type": "display_data"
    },
    {
     "name": "stdout",
     "output_type": "stream",
     "text": [
      "ACTION 2- OPERATION 2 | MACHINE 3\n",
      "[[[ 7.  7.  7.]\n",
      "  [ 8.  8.  8.]\n",
      "  [ 0.  0. 11.]]\n",
      "\n",
      " [[ 0.  0.  8.]\n",
      "  [10. 10.  9.]\n",
      "  [ 0.  0.  0.]]\n",
      "\n",
      " [[ 9.  8.  0.]\n",
      "  [ 9.  0.  9.]\n",
      "  [12.  0.  0.]]]\n",
      "[[0. 0. 0. 8.]\n",
      " [0. 0. 3. 5.]\n",
      " [1. 0. 1. 7.]\n",
      " [0. 0. 0. 8.]\n",
      " [0. 0. 3. 5.]\n",
      " [1. 0. 1. 7.]\n",
      " [1. 0. 0. 8.]\n",
      " [1. 0. 3. 5.]\n",
      " [0. 0. 1. 7.]]\n"
     ]
    },
    {
     "data": {
      "image/png": "[encoded data removed]",
      "text/plain": [
       "<Figure size 432x288 with 1 Axes>"
      ]
     },
     "metadata": {
      "needs_background": "light"
     },
     "output_type": "display_data"
    },
    {
     "name": "stdout",
     "output_type": "stream",
     "text": [
      "ACTION 3- OPERATION 4 | MACHINE 3\n",
      "[[[ 7.  7.  7.]\n",
      "  [ 8.  8.  8.]\n",
      "  [ 0.  0. 11.]]\n",
      "\n",
      " [[10. 10. 10.]\n",
      "  [12. 12. 11.]\n",
      "  [ 0.  0.  0.]]\n",
      "\n",
      " [[ 9.  8.  0.]\n",
      "  [ 9.  0.  9.]\n",
      "  [12.  0.  0.]]]\n",
      "[[ 0.  0.  0. 10.]\n",
      " [ 0.  0.  3.  7.]\n",
      " [ 1.  2.  3.  7.]\n",
      " [ 1.  0.  0. 10.]\n",
      " [ 1.  0.  3.  7.]\n",
      " [ 1.  0.  3.  7.]\n",
      " [ 1.  0.  0. 10.]\n",
      " [ 1.  0.  3.  7.]\n",
      " [ 0.  0.  3.  7.]]\n"
     ]
    },
    {
     "data": {
      "image/png": "[encoded data removed]",
      "text/plain": [
       "<Figure size 432x288 with 1 Axes>"
      ]
     },
     "metadata": {
      "needs_background": "light"
     },
     "output_type": "display_data"
    },
    {
     "name": "stdout",
     "output_type": "stream",
     "text": [
      "ACTION 4- OPERATION 3 | MACHINE 3\n",
      "[[[ 7.  7.  7.]\n",
      "  [ 8.  8.  8.]\n",
      "  [13. 13. 13.]]\n",
      "\n",
      " [[10. 10. 10.]\n",
      "  [12. 12. 11.]\n",
      "  [ 0.  0.  0.]]\n",
      "\n",
      " [[ 9.  8.  0.]\n",
      "  [ 9.  0.  9.]\n",
      "  [12.  0.  0.]]]\n",
      "[[ 0.  0.  0. 13.]\n",
      " [ 0.  0.  3. 10.]\n",
      " [ 0.  0.  6.  7.]\n",
      " [ 1.  0.  0. 13.]\n",
      " [ 1.  0.  3. 10.]\n",
      " [ 1.  3.  6.  7.]\n",
      " [ 1.  0.  0. 13.]\n",
      " [ 1.  0.  3. 10.]\n",
      " [ 0.  0.  6.  7.]]\n"
     ]
    },
    {
     "data": {
      "image/png": "[encoded data removed]",
      "text/plain": [
       "<Figure size 432x288 with 1 Axes>"
      ]
     },
     "metadata": {
      "needs_background": "light"
     },
     "output_type": "display_data"
    },
    {
     "name": "stdout",
     "output_type": "stream",
     "text": [
      "ACTION 5- OPERATION 5 | MACHINE 1\n",
      "[[[ 7.  7.  7.]\n",
      "  [ 8.  8.  8.]\n",
      "  [13. 13. 13.]]\n",
      "\n",
      " [[10. 10. 10.]\n",
      "  [12. 12. 12.]\n",
      "  [ 0.  0.  0.]]\n",
      "\n",
      " [[ 9.  8.  0.]\n",
      "  [ 9.  0.  9.]\n",
      "  [12.  0.  0.]]]\n",
      "[[ 0.  0.  2. 11.]\n",
      " [ 0.  0.  3. 10.]\n",
      " [ 0.  0.  6.  7.]\n",
      " [ 0.  0.  2. 11.]\n",
      " [ 0.  0.  3. 10.]\n",
      " [ 0.  0.  6.  7.]\n",
      " [ 1.  5.  2. 11.]\n",
      " [ 1.  0.  3. 10.]\n",
      " [ 0.  0.  6.  7.]]\n"
     ]
    },
    {
     "data": {
      "image/png": "[encoded data removed]",
      "text/plain": [
       "<Figure size 432x288 with 1 Axes>"
      ]
     },
     "metadata": {
      "needs_background": "light"
     },
     "output_type": "display_data"
    },
    {
     "name": "stdout",
     "output_type": "stream",
     "text": [
      "ACTION 6- OPERATION 6 | MACHINE 1\n",
      "[[[ 7.  7.  7.]\n",
      "  [ 8.  8.  8.]\n",
      "  [13. 13. 13.]]\n",
      "\n",
      " [[10. 10. 10.]\n",
      "  [12. 12. 12.]\n",
      "  [ 0.  0.  0.]]\n",
      "\n",
      " [[ 9.  9.  9.]\n",
      "  [10.  0. 10.]\n",
      "  [13.  0.  0.]]]\n",
      "[[ 0.  0.  4.  9.]\n",
      " [ 0.  0.  3. 10.]\n",
      " [ 0.  0.  6.  7.]\n",
      " [ 0.  0.  4.  9.]\n",
      " [ 0.  0.  3. 10.]\n",
      " [ 0.  0.  6.  7.]\n",
      " [ 1.  3.  4.  9.]\n",
      " [ 0.  0.  3. 10.]\n",
      " [ 1.  0.  6.  7.]]\n"
     ]
    },
    {
     "data": {
      "image/png": "[encoded data removed]",
      "text/plain": [
       "<Figure size 432x288 with 1 Axes>"
      ]
     },
     "metadata": {
      "needs_background": "light"
     },
     "output_type": "display_data"
    },
    {
     "name": "stdout",
     "output_type": "stream",
     "text": [
      "ACTION 7- OPERATION 7 | MACHINE 1\n",
      "[[[ 7.  7.  7.]\n",
      "  [ 8.  8.  8.]\n",
      "  [13. 13. 13.]]\n",
      "\n",
      " [[10. 10. 10.]\n",
      "  [12. 12. 12.]\n",
      "  [ 0.  0.  0.]]\n",
      "\n",
      " [[ 9.  9.  9.]\n",
      "  [10. 10. 10.]\n",
      "  [13.  0.  0.]]]\n",
      "[[ 0.  0.  5.  8.]\n",
      " [ 0.  0.  3. 10.]\n",
      " [ 0.  0.  6.  7.]\n",
      " [ 0.  0.  5.  8.]\n",
      " [ 0.  0.  3. 10.]\n",
      " [ 0.  0.  6.  7.]\n",
      " [ 1.  2.  5.  8.]\n",
      " [ 0.  0.  3. 10.]\n",
      " [ 0.  0.  6.  7.]]\n"
     ]
    },
    {
     "data": {
      "image/png": "[encoded data removed]",
      "text/plain": [
       "<Figure size 432x288 with 1 Axes>"
      ]
     },
     "metadata": {
      "needs_background": "light"
     },
     "output_type": "display_data"
    },
    {
     "name": "stdout",
     "output_type": "stream",
     "text": [
      "ACTION 8- OPERATION 8 | MACHINE 1\n",
      "[[[ 7.  7.  7.]\n",
      "  [ 8.  8.  8.]\n",
      "  [13. 13. 13.]]\n",
      "\n",
      " [[10. 10. 10.]\n",
      "  [12. 12. 12.]\n",
      "  [ 0.  0.  0.]]\n",
      "\n",
      " [[ 9.  9.  9.]\n",
      "  [10. 10. 10.]\n",
      "  [15. 15. 15.]]]\n",
      "[[ 0.  0.  8.  7.]\n",
      " [ 0.  0.  3. 12.]\n",
      " [ 0.  0.  6.  9.]\n",
      " [ 0.  0.  8.  7.]\n",
      " [ 0.  0.  3. 12.]\n",
      " [ 0.  0.  6.  9.]\n",
      " [ 0.  0.  8.  7.]\n",
      " [ 0.  0.  3. 12.]\n",
      " [ 0.  0.  6.  9.]]\n"
     ]
    },
    {
     "data": {
      "image/png": "[encoded data removed]",
      "text/plain": [
       "<Figure size 432x288 with 1 Axes>"
      ]
     },
     "metadata": {
      "needs_background": "light"
     },
     "output_type": "display_data"
    },
    {
     "name": "stdout",
     "output_type": "stream",
     "text": [
      "[False, False, False, False, False, True, True, False]\n"
     ]
    }
   ],
   "source": [
    "env.reset(problem, 3, release_times)\n",
    "step_and_print((1, 2))\n",
    "step_and_print((2, 3))\n",
    "step_and_print((4, 3))\n",
    "step_and_print((3, 3))\n",
    "step_and_print((5, 1))\n",
    "step_and_print((6, 1))\n",
    "step_and_print((7, 1))\n",
    "step_and_print((8, 1))\n",
    "print(env.left_shifted_flags)"
   ]
  }
 ],
 "metadata": {
  "kernelspec": {
   "display_name": "Python 3.9.12 ('fjsp-rl')",
   "language": "python",
   "name": "python3"
  },
  "language_info": {
   "codemirror_mode": {
    "name": "ipython",
    "version": 3
   },
   "file_extension": ".py",
   "mimetype": "text/x-python",
   "name": "python",
   "nbconvert_exporter": "python",
   "pygments_lexer": "ipython3",
   "version": "3.9.12"
  },
  "orig_nbformat": 4,
  "vscode": {
   "interpreter": {
    "hash": "9af82945d3fcc9f5a9e513a177df704e75e4a91e795d1082ff4bcabadd9bc4e8"
   }
  }
 },
 "nbformat": 4,
 "nbformat_minor": 2
}
